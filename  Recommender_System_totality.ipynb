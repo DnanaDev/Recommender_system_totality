{
 "cells": [
  {
   "cell_type": "markdown",
   "metadata": {},
   "source": [
    "# Requirements of Totality  Corp:\n",
    "<b>Assignment 1 </b><br>(Design Recommendation System Architecture)<br>\n",
    "Content discovery is a vital part for the Yovo. Users often don't know what they want to watch and need a way to discover content without searching for it. <b>Create a feed personalisation algorithm strategy which enables users to discover the right content. Underlying algorithm must strike an elegant balance between Machine Learning and giving the user control over what content they want to see.</b>\n",
    "Note:\n",
    "- Video has certain text attributes: tags, category, title text (context) - Use pseudocode wherever necessary\n",
    "- Download ​yovo app​ to see actual feed\n",
    "\n"
   ]
  },
  {
   "cell_type": "markdown",
   "metadata": {},
   "source": [
    "# Potential solutions to the problem:\n",
    "\n",
    "### Recommender Systems generally follow one of two methods:\n",
    "##### 1. Collaborative filtering \n",
    "    \n",
    "This approach <b> will not apply to the Yovo app as there is no option for users to like certain videos in their feed.  \n",
    "The approach would require the app to keep track of each user and their likes, shares etc. in the form of user matrix. </b>\n",
    "\n",
    "\n",
    "##### 2. Content Based filtering (Suitable for YOVO app)\n",
    "\n",
    "This approach utilizes a series of discrete characteristics of an item in order to recommend additional items with similar properties. \n",
    "\n",
    "<b>Based on items,which are videos in the case of Yovo including the characteristics - tags, category, title text (context) in this case. \n",
    "\n",
    "This method is suitable in the case where metadata is available and no matrix of users ids, preferences is available.</b>\n"
   ]
  },
  {
   "cell_type": "markdown",
   "metadata": {},
   "source": [
    "# Practical Example of Content based filtering (Architecture) :\n",
    "\n",
    "## The Dataset \n",
    "\n",
    "The dataset of 500 entries of different items like shoes, shirts etc., along with an item-id and a <b>textual description of the item.</b><br>\n",
    "The system creates a profile for each item and recommends similar items.\n",
    "\n",
    "<b>For totality, I imagine this dataset will be replaced with one containing textual discription of the video(videoId)\n",
    "using the tags or title  attributes.</b>\n",
    "\n",
    "## Process\n",
    "\n",
    "#### 1. Extract TF * IDF [(term frequency)*(Inverse document frequency)] Score\n",
    "\n",
    "The TF*IDF algorithm finds the importance of a word in the tag. This is done for each word in the tag and for each item.<br>\n",
    "<b>This is implemented using scikit-learns inbuilt TF-IDF vectorizer. </b>\n",
    "\n",
    "#### 2. Calculating Similarity using Cosine Similarity  \n",
    "Once we have the vectors for each item, we can use cosine similarity to find items/ words that are similar.<br>\n",
    "Cosine similarity judges how close the cosine angles are in the vector representation of the items.<br>\n",
    "\n",
    "<b>This is done using the linear_kernel method of scikit-learn. It takes the tfidf matrix of the items as input and compares them to find items that are similar. </b>\n",
    "    \n",
    "#### 3. Store results of cosine similarity \n",
    "The results of cosine similarity are stored in result, arranged according to similarity with item i.\n",
    "\n",
    "#### 4. Recommending Items\n",
    "The function recommend takes in the item for which a recommendation is to be made and the number of recommmendations to be made and reads out the most similar items from results.\n",
    "<br>\n",
    "We input a threshold value to only get recommendation above a certain similarity index.<br>\n",
    "<b> The items recommended can then be fed into the personalized feed of the user for relevant video recommendations.</b>"
   ]
  },
  {
   "cell_type": "code",
   "execution_count": 19,
   "metadata": {
    "scrolled": true
   },
   "outputs": [
    {
     "name": "stdout",
     "output_type": "stream",
     "text": [
      "Saved\n",
      "Recommending 5 products similar to Baby micro d-luxe cardigan...\n",
      "-------\n",
      "Recommended: Micro d-luxe cardigan (score:0.37550840843454325)\n",
      "\n",
      "\n",
      "\n",
      "Recommending 10 products similar to Cap 2 t-shirt...\n",
      "-------\n",
      "Recommended: Cap 2 crew (score:0.7049890803634637)\n",
      "Recommended: Cap 2 t-shirt (score:0.7041906217524195)\n",
      "Recommended: Cap 2 cap sleeve (score:0.6635362790007241)\n",
      "Recommended: Cap 2 zip neck (score:0.6225162259563587)\n",
      "Recommended: Cap 2 zip neck (score:0.5295225236280288)\n",
      "Recommended: Cap 2 v-neck (score:0.5094581638236453)\n"
     ]
    }
   ],
   "source": [
    "import pandas as pd\n",
    "from sklearn.feature_extraction.text import TfidfVectorizer\n",
    "from sklearn.metrics.pairwise import linear_kernel \n",
    "\n",
    "# reads dataset \n",
    "ds = pd.read_csv(\"sample-data.csv\")\n",
    "\n",
    "ds.head()\n",
    "\n",
    "# 1. calculates tf-idf scores for items\n",
    "tf = TfidfVectorizer(analyzer='word', ngram_range=(1, 3), min_df=0, stop_words='english')\n",
    "tfidf_matrix = tf.fit_transform(ds['description'])\n",
    "\n",
    "\n",
    "# 2. Calculate cosine similarity \n",
    "cosine_similarities = linear_kernel(tfidf_matrix, tfidf_matrix) \n",
    "results = {}\n",
    "\n",
    "# 3. Saving results in order of similarity to item i\n",
    "\n",
    "for idx, row in ds.iterrows():\n",
    "    similar_indices = cosine_similarities[idx].argsort()[:-100:-1]\n",
    "    similar_items = [(cosine_similarities[idx][i], ds['id'][i]) for i in similar_indices]\n",
    "\n",
    "    results[row['id']] = similar_items[1:]\n",
    "    \n",
    "print('Saved')\n",
    "\n",
    "def item(id):\n",
    "    return ds.loc[ds['id'] == id]['description'].tolist()[0].split(' - ')[0]\n",
    "\n",
    "# 4.a Just reads the results out of the dictionary.\n",
    "def recommend(item_id, num, threshold):\n",
    "    print(\"Recommending \" + str(num) + \" products similar to \" + item(item_id) + \"...\")\n",
    "    print(\"-------\")\n",
    "    recs = results[item_id][:num]\n",
    "    for rec in recs:\n",
    "        \n",
    "        # A condition can be added to only to print items above a similairty threshold (50% etc.)\n",
    "        if(rec[0]>threshold):\n",
    "            print(\"Recommended: \" + item(rec[1]) + \" (score:\" + str(rec[0]) + \")\")\n",
    "\n",
    "# 4. Recommend items similar to item_id and num = number of recommendations with a similarity threshold value \n",
    "\n",
    "\n",
    "recommend(item_id=9, num=5, threshold= 0.3)  # Recommend  5 items similar to item_id 9 with similarity of >30%\n",
    "print('')\n",
    "print('')\n",
    "print('')\n",
    "recommend(item_id=22, num=10, threshold= 0.5) # Recommend  10 items similar to item_id 22 with similarity of >50%\n"
   ]
  },
  {
   "cell_type": "markdown",
   "metadata": {},
   "source": []
  }
 ],
 "metadata": {
  "kernelspec": {
   "display_name": "Python 3",
   "language": "python",
   "name": "python3"
  },
  "language_info": {
   "codemirror_mode": {
    "name": "ipython",
    "version": 3
   },
   "file_extension": ".py",
   "mimetype": "text/x-python",
   "name": "python",
   "nbconvert_exporter": "python",
   "pygments_lexer": "ipython3",
   "version": "3.6.4"
  }
 },
 "nbformat": 4,
 "nbformat_minor": 2
}
